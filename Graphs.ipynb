{
 "cells": [
  {
   "cell_type": "code",
   "execution_count": 1,
   "id": "4c71512c",
   "metadata": {},
   "outputs": [
    {
     "name": "stderr",
     "output_type": "stream",
     "text": [
      "c:\\program files\\python38\\lib\\site-packages\\numpy\\_distributor_init.py:30: UserWarning: loaded more than 1 DLL from .libs:\n",
      "c:\\program files\\python38\\lib\\site-packages\\numpy\\.libs\\libopenblas.GK7GX5KEQ4F6UYO3P26ULGBQYHGQO7J4.gfortran-win_amd64.dll\n",
      "c:\\program files\\python38\\lib\\site-packages\\numpy\\.libs\\libopenblas.WCDJNK7YVMPZQ2ME2ZZHJJRJ3JIKNDB7.gfortran-win_amd64.dll\n",
      "  warnings.warn(\"loaded more than 1 DLL from .libs:\"\n"
     ]
    }
   ],
   "source": [
    "import glob\n",
    "import matplotlib.pyplot as plt"
   ]
  },
  {
   "cell_type": "code",
   "execution_count": 2,
   "id": "77f55961",
   "metadata": {},
   "outputs": [
    {
     "name": "stdout",
     "output_type": "stream",
     "text": [
      "['vgg16_10.txt', 'vgg16_100.txt', 'vgg16_20.txt', 'vgg16_30.txt', 'vgg16_40.txt', 'vgg16_5.txt', 'vgg16_50.txt', 'vgg16_60.txt', 'vgg16_70.txt', 'vgg16_80.txt', 'vgg16_90.txt']\n"
     ]
    }
   ],
   "source": [
    "files = glob.glob(\"*.txt\")\n",
    "print(files)"
   ]
  },
  {
   "cell_type": "code",
   "execution_count": 3,
   "id": "ea94e9a6",
   "metadata": {},
   "outputs": [],
   "source": [
    "validation_acc_5 = []\n",
    "validation_acc_10 = []\n",
    "validation_acc_20 = []\n",
    "validation_acc_30 = []\n",
    "validation_acc_40 = []\n",
    "validation_acc_50 = []\n",
    "validation_acc_60 = []\n",
    "validation_acc_70 = []\n",
    "validation_acc_80 = []\n",
    "validation_acc_90 = []\n",
    "validation_acc_100 = []"
   ]
  },
  {
   "cell_type": "code",
   "execution_count": 4,
   "id": "c0ce979d",
   "metadata": {},
   "outputs": [
    {
     "name": "stdout",
     "output_type": "stream",
     "text": [
      "Quality: 10\n",
      "Accuracy: 0.27\n",
      "Precision: 0.27\n",
      "Recall: 0.27\n",
      "F1: 0.25\n",
      "----------------\n",
      "Quality: 100\n",
      "Accuracy: 0.38\n",
      "Precision: 0.4\n",
      "Recall: 0.38\n",
      "F1: 0.38\n",
      "----------------\n",
      "Quality: 20\n",
      "Accuracy: 0.32\n",
      "Precision: 0.33\n",
      "Recall: 0.32\n",
      "F1: 0.31\n",
      "----------------\n",
      "Quality: 30\n",
      "Accuracy: 0.34\n",
      "Precision: 0.36\n",
      "Recall: 0.34\n",
      "F1: 0.33\n",
      "----------------\n",
      "Quality: 40\n",
      "Accuracy: 0.33\n",
      "Precision: 0.34\n",
      "Recall: 0.33\n",
      "F1: 0.32\n",
      "----------------\n",
      "Quality: 5\n",
      "Accuracy: 0.21\n",
      "Precision: 0.21\n",
      "Recall: 0.21\n",
      "F1: 0.19\n",
      "----------------\n",
      "Quality: 50\n",
      "Accuracy: 0.32\n",
      "Precision: 0.35\n",
      "Recall: 0.32\n",
      "F1: 0.32\n",
      "----------------\n",
      "Quality: 60\n",
      "Accuracy: 0.36\n",
      "Precision: 0.39\n",
      "Recall: 0.36\n",
      "F1: 0.36\n",
      "----------------\n",
      "Quality: 70\n",
      "Accuracy: 0.37\n",
      "Precision: 0.39\n",
      "Recall: 0.37\n",
      "F1: 0.37\n",
      "----------------\n",
      "Quality: 80\n",
      "Accuracy: 0.37\n",
      "Precision: 0.38\n",
      "Recall: 0.37\n",
      "F1: 0.36\n",
      "----------------\n",
      "Quality: 90\n",
      "Accuracy: 0.38\n",
      "Precision: 0.4\n",
      "Recall: 0.38\n",
      "F1: 0.37\n",
      "----------------\n",
      "[0.1033, 0.1917, 0.2545, 0.2886, 0.3044, 0.3281, 0.3405, 0.3628, 0.3715, 0.3633]\n"
     ]
    }
   ],
   "source": [
    "for file in files:\n",
    "    with open(file) as f:\n",
    "        lines = f.read().split('\\n')\n",
    "        quality = int(lines[1].split(':')[1])\n",
    "        training_acc = lines[3].split(':')[1].split(',')\n",
    "        validation_acc = lines[5].split(':')[1].split(',')\n",
    "        test_acc = round(float(lines[6].split(':')[1]),2)\n",
    "        precision = round(float(lines[7].split(':')[1]),2)\n",
    "        recall = round(float(lines[8].split(':')[1]),2)\n",
    "        f1 = round(float(lines[9].split(':')[1]),2)\n",
    "        \n",
    "        print(f\"Quality: {quality}\")\n",
    "        print(f\"Accuracy: {test_acc}\")\n",
    "        print(f\"Precision: {precision}\")\n",
    "        print(f\"Recall: {recall}\")\n",
    "        print(f\"F1: {f1}\")\n",
    "        print(\"----------------\")\n",
    "        \n",
    "        if quality == 5:\n",
    "            for i in range(len(training_acc)):\n",
    "                validation_acc_5.append(float(validation_acc[i]))\n",
    "        elif quality == 10:\n",
    "            for i in range(len(training_acc)):\n",
    "                validation_acc_10.append(float(validation_acc[i]))\n",
    "        elif quality == 20:\n",
    "            for i in range(len(training_acc)):\n",
    "                validation_acc_20.append(float(validation_acc[i]))\n",
    "        elif quality == 30:\n",
    "            for i in range(len(training_acc)):\n",
    "                validation_acc_30.append(float(validation_acc[i]))\n",
    "        elif quality == 40:\n",
    "            for i in range(len(training_acc)):\n",
    "                validation_acc_40.append(float(validation_acc[i]))\n",
    "        elif quality == 50:\n",
    "            for i in range(len(training_acc)):\n",
    "                validation_acc_50.append(float(validation_acc[i]))\n",
    "        elif quality == 60:\n",
    "            for i in range(len(training_acc)):\n",
    "                validation_acc_60.append(float(validation_acc[i]))\n",
    "        elif quality == 70:\n",
    "            for i in range(len(training_acc)):\n",
    "                validation_acc_70.append(float(validation_acc[i]))\n",
    "        elif quality == 80:\n",
    "            for i in range(len(training_acc)):\n",
    "                validation_acc_80.append(float(validation_acc[i]))\n",
    "        elif quality == 90:\n",
    "            for i in range(len(training_acc)):\n",
    "                validation_acc_90.append(float(validation_acc[i]))\n",
    "        else:\n",
    "            for i in range(len(training_acc)):\n",
    "                validation_acc_100.append(float(validation_acc[i]))\n",
    "\n",
    "print(validation_acc_60)"
   ]
  },
  {
   "cell_type": "code",
   "execution_count": 5,
   "id": "eef1de71",
   "metadata": {},
   "outputs": [
    {
     "data": {
      "image/png": "[encoded data removed]",
      "text/plain": [
       "<Figure size 432x288 with 1 Axes>"
      ]
     },
     "metadata": {
      "needs_background": "light"
     },
     "output_type": "display_data"
    }
   ],
   "source": [
    "x = range(1,11)\n",
    "plt.plot(x, validation_acc_100, c='b', label='Orig')\n",
    "plt.plot(x, validation_acc_90, c='#192417', label='90')\n",
    "plt.plot(x, validation_acc_80, c='#253523', label='80')\n",
    "plt.plot(x, validation_acc_70, c='#31472e', label='70')\n",
    "plt.plot(x, validation_acc_60, c='#3e593a', label='60')\n",
    "plt.plot(x, validation_acc_50, c='#4a6b46', label='50')\n",
    "plt.plot(x, validation_acc_40, c='#567d51', label='40')\n",
    "plt.plot(x, validation_acc_30, c='#628e5d', label='30')\n",
    "plt.plot(x, validation_acc_20, c='#6fa068', label='20')\n",
    "plt.plot(x, validation_acc_10, c='orangered', label='10')\n",
    "plt.plot(x, validation_acc_5, c='r', label='5')\n",
    "plt.legend(loc='center left', bbox_to_anchor=(1, 0.5))\n",
    "plt.xlabel(\"Epochs\")\n",
    "plt.ylim(0, 0.5)\n",
    "plt.ylabel(\"Validation Accuracy\")\n",
    "plt.title(\"VGG-16\")\n",
    "plt.savefig('VGG-16.png', bbox_inches='tight')\n",
    "plt.show()"
   ]
  },
  {
   "cell_type": "code",
   "execution_count": null,
   "id": "2af77e20",
   "metadata": {},
   "outputs": [],
   "source": []
  }
 ],
 "metadata": {
  "kernelspec": {
   "display_name": "Python 3",
   "language": "python",
   "name": "python3"
  },
  "language_info": {
   "codemirror_mode": {
    "name": "ipython",
    "version": 3
   },
   "file_extension": ".py",
   "mimetype": "text/x-python",
   "name": "python",
   "nbconvert_exporter": "python",
   "pygments_lexer": "ipython3",
   "version": "3.8.2"
  }
 },
 "nbformat": 4,
 "nbformat_minor": 5
}
